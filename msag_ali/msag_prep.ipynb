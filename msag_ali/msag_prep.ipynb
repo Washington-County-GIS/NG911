{
 "cells": [
  {
   "cell_type": "code",
   "execution_count": 29,
   "id": "da1b18ce-076d-43cd-a441-cf0b733ad5bf",
   "metadata": {},
   "outputs": [],
   "source": [
    "# Scripts to prep the MSAG CSV export for matching to GIS data\n",
    "\n",
    "# New columns are appended to the end of the original MSAG\n",
    "\n",
    "# You will need the list of USPS standard street type abbreviations"
   ]
  },
  {
   "cell_type": "code",
   "execution_count": 30,
   "id": "6aac3dab-4648-4051-b882-ec3e7abdd894",
   "metadata": {},
   "outputs": [],
   "source": [
    "# Original column headers in MSAG\n",
    "# TN_COUNT, LOW_HOUSE_NUMBER, HIGH_HOUSE_NUMBER, ODD_EVEN_INDICATOR,\n",
    "# STREET_PREFIX_DIRECTIONAL, STREET_NAME, COMMUNITY_NAME, EXCHG,\n",
    "# COUNTY_ID, STATE, REGION, AGENCY_ID, SR_TANDEM, ESN,  COMMENTS, \n",
    "# MODIFIED_BY, MODIFIED_DATE, TYPE\n",
    "\n",
    "\n",
    "# Columns added to the dataframe \n",
    "# ADD_TYPE_msag (COORD or TRAD), ST_NAME_msag, ST_TYPE_msag, \n",
    "# ESN_RANGE_msag (true/false), ST_TYPE_usps (provides the suggested USPS street type), \n",
    "# ST_TYPE_correct (true/false. checks for match between the original value and the one\n",
    "# given by USPS dictionary), COORD_FRAG_msag"
   ]
  },
  {
   "cell_type": "code",
   "execution_count": 31,
   "id": "d0713e9b-2733-4875-ac9d-e23bec995ea8",
   "metadata": {},
   "outputs": [],
   "source": [
    "# REQUIRED\n",
    "\n",
    "import pandas as pd\n",
    "import csv\n",
    "import os\n"
   ]
  },
  {
   "cell_type": "code",
   "execution_count": 32,
   "id": "49cdc3e4-2cd9-4f86-86da-de6071c831a1",
   "metadata": {},
   "outputs": [],
   "source": [
    "# DATA IMPORTS\n",
    "\n",
    "# CSV of street type abbreviations and create a dictionary object\n",
    "# path to the st type csv\n",
    "stType_path = (r\"path\\to\\uspsFile.csv\")\n",
    "\n",
    "\n",
    "# Create dataframe\n",
    "usps_types = pd.read_csv(stType_path, low_memory=False)\n",
    "\n",
    "# Create dictionary from dataframe. The common abbreviations are the keys, the \n",
    "# standard abbreviations are the values\n",
    "stType_dict = usps_types.set_index('COMMON_ABBR').T.to_dict('list')\n",
    "\n",
    "\n",
    "\n",
    "# MSAG CSV export\n",
    " msag_path = (r\"path\\to\\msag.csv\")\n",
    "\n",
    "\n",
    "# Create the dataframe\n",
    "msag = pd.read_csv(msag_path, low_memory=False)\n",
    "\n",
    "\n",
    "# ESN values - This can be a simple list. The purpose \n",
    "# is to check if the existing ESN values are within range.\n",
    "# If ESNs need to be corrected, reference the GIS data and ESN \n",
    "# boundaries first\n",
    "esn_path = (r\"path\\to\\esn.csv\")\n",
    "\n",
    "\n",
    "# create the dataframe\n",
    "esn = pd.read_csv(esn_path, low_memory = False)\n",
    "\n",
    "# create the list\n",
    "esn_list = esn['ESN'].values.tolist()\n",
    "\n",
    "\n",
    "# OPTIONAL - if data is saved in excel file instead of csv\n",
    "# excelBookPath = (r\"path\\to\\excelFile.xlsx\")\n",
    "# xls = pd.ExcelFile(excelBookPath)\n",
    "\n",
    "# You must point to the specific sheet. Can create a different dataframe from each \n",
    "# sheet. May be useful for combining the ESN list or st type abbreviations in one file\n",
    "#msag = pd.read_excel(xls, 'name of sheet')\n"
   ]
  },
  {
   "cell_type": "code",
   "execution_count": 33,
   "id": "106eb84e-4b12-437c-9ea1-876885d6da5e",
   "metadata": {},
   "outputs": [],
   "source": [
    "# FUNCTION\n",
    "# Check if an entry contains coordinates by searching for \"N\"\n",
    "# or \"W\" in the HOUSE_NUMBER \n",
    "\n",
    "def checkCoords(addNum):\n",
    "    # convert to string\n",
    "    addNum = str(addNum)\n",
    "    north = \"N\"\n",
    "    west = \"W\"\n",
    "    # if 'N' or 'W' exists in the address number, return \"COORD\"\n",
    "    if north in addNum: \n",
    "        message = \"COORD\"\n",
    "    elif west in addNum: \n",
    "        message = \"COORD\"\n",
    "    else: \n",
    "        message = \"TRAD\" # traditional address number\n",
    "    return message"
   ]
  },
  {
   "cell_type": "code",
   "execution_count": 34,
   "id": "748eace0-0480-4124-bf97-119231378a79",
   "metadata": {},
   "outputs": [],
   "source": [
    "# FUNCTION\n",
    "\n",
    "# Note that these functions are configured to split the data as it exists in the Washington County\n",
    "# MSAG  \n",
    "# Where there is a column 'STREET_PREFIX_DIRECTIONAL' containing an abbreviated cardinal direction\n",
    "# followed by the 'STREET_NAME' containing full name with the st type abbreviated. When the street \n",
    "# contains coordinate addresses, the first part of the coordinate address is appended to the street \n",
    "# name in the same column after several spaces. For example: \n",
    "# \"TREE TOPS CT                               W0149\"\n",
    "\n",
    "# Returns the MSAG entry's current st type abbreviation\n",
    "# Splits the street name field at spaces, returns the st type portion\n",
    "# based on the number of strings \n",
    "def getStType(stName):\n",
    "    # count total spaces in the string\n",
    "    space_count = stName.count(\" \")\n",
    "    # split the string at every space\n",
    "    splitString = stName.split()\n",
    "    if space_count>3:\n",
    "        stType = splitString[-2]\n",
    "    else:\n",
    "        stType = splitString[-1]\n",
    "\n",
    "    return stType\n",
    "        \n",
    "\n",
    "# Returns the MSAG entry's street name separated from the st type and coordinate fragment\n",
    "# Note that the indices here count from the string's end\n",
    "def getStName(stName):\n",
    "    space_count = stName.count(\" \")\n",
    "    splitString = stName.split()\n",
    "    if space_count>3:\n",
    "        name = splitString[:-2]\n",
    "    else: \n",
    "        name = splitString[:-1]\n",
    "        \n",
    "    newName = ' '.join(name)\n",
    "    return newName\n",
    "\n",
    "\n",
    "def coordComponent(add_type, stName):\n",
    "    if add_type == \"COORD\":\n",
    "        coord = getCoordNum(stName)\n",
    "    else: \n",
    "        coord = \" \" \n",
    "    return coord\n",
    "\n",
    "\n",
    "# Returns the MSAG entry's coordinate address fragment\n",
    "# Should only be called on fields found to be coordinate addresses\n",
    "def getCoordNum(stName):\n",
    "    space_count = stName.count(\" \")\n",
    "    splitString = stName.split()\n",
    "    coord = splitString[-1]\n",
    "    return coord"
   ]
  },
  {
   "cell_type": "code",
   "execution_count": 35,
   "id": "33660b5b-a4db-44c7-8feb-1c03e6bf524e",
   "metadata": {},
   "outputs": [],
   "source": [
    "# FUNCTION \n",
    "# Supply the matching USPS street abbreviation when possible\n",
    "\n",
    "def suggestStAbbr(stType, stType_dict):\n",
    "    if stType in stType_dict: \n",
    "        suggest = str(stType_dict[stType][-1]) # cast as string and use indexing to remove pesky brackets\n",
    "        return suggest\n",
    "    else: \n",
    "        return None"
   ]
  },
  {
   "cell_type": "code",
   "execution_count": 36,
   "id": "b94eadf4-3332-41ba-84d9-48cbed5b074b",
   "metadata": {},
   "outputs": [],
   "source": [
    "# Add the new columns to the msag dataframe"
   ]
  },
  {
   "cell_type": "code",
   "execution_count": 37,
   "id": "4ad00ed0-c438-4d27-9f7f-8a7d8c387fbc",
   "metadata": {},
   "outputs": [],
   "source": [
    "# New Column\n",
    "# ADD_TYPE_msag\n",
    "\n",
    "# Returns indication of traditional or coordinate address based on one of the \n",
    "# house numbers\n",
    "\n",
    "msag['ADD_TYPE_msag'] = msag.apply(lambda x: checkCoords(x['LOW_HOUSE_NUMBER']), axis=1)"
   ]
  },
  {
   "cell_type": "code",
   "execution_count": 38,
   "id": "77624d41-076a-430c-9492-1f44e2cdada7",
   "metadata": {},
   "outputs": [],
   "source": [
    "# New Column\n",
    "# ESN_RANGE_msag\n",
    "\n",
    "# Check if the MSAG entry's ESN exists in the list used by the county\n",
    "\n",
    "msag['ESN_RANGE_msag'] = msag['ESN'].isin(esn_list)"
   ]
  },
  {
   "cell_type": "code",
   "execution_count": 39,
   "id": "6883d783-5424-46f7-a6ec-b9cdeb0bc49e",
   "metadata": {},
   "outputs": [],
   "source": [
    "# New Column\n",
    "# ST_NAME_msag\n",
    "\n",
    "# Returns only the street name - no st type or coordinates\n",
    "\n",
    "msag['ST_NAME_msag'] = msag['STREET_NAME'].apply(getStName)\n"
   ]
  },
  {
   "cell_type": "code",
   "execution_count": 40,
   "id": "e0fffc2e-db71-45dd-96f8-8cdcd9d45aef",
   "metadata": {},
   "outputs": [],
   "source": [
    "# New Column\n",
    "# COORD_FRAG_msag\n",
    "\n",
    "# Returns only the coordinate component of the street name field\n",
    "\n",
    "msag['COORD_FRAG_msag'] = msag.apply(lambda x: coordComponent(x['ADD_TYPE_msag'],x['STREET_NAME']), axis=1)"
   ]
  },
  {
   "cell_type": "code",
   "execution_count": 41,
   "id": "fd004cf9-b494-4f9f-9669-1cd32a39638e",
   "metadata": {},
   "outputs": [],
   "source": [
    "# New Column\n",
    "# ST_TYPE_msag\n",
    "\n",
    "# The current st type for the MSAG entry\n",
    "\n",
    "msag['ST_TYPE_msag'] = msag['STREET_NAME'].apply(getStType)\n"
   ]
  },
  {
   "cell_type": "code",
   "execution_count": 42,
   "id": "afda561a-6496-4844-b127-c5af6f8c21ec",
   "metadata": {},
   "outputs": [],
   "source": [
    "# New Column\n",
    "# ST_TYPE_usps\n",
    "\n",
    "# The street type match from the USPS standard dictionary\n",
    "\n",
    "msag['ST_TYPE_usps'] = msag.apply(lambda x: suggestStAbbr(x['ST_TYPE_msag'],stType_dict), axis=1)"
   ]
  },
  {
   "cell_type": "code",
   "execution_count": 43,
   "id": "cd7ac838-acdd-468e-8c46-1f2aca3e5b54",
   "metadata": {},
   "outputs": [],
   "source": [
    "# New Column\n",
    "# ST_TYPE_correct\n",
    "\n",
    "# Check if the suggested st type matches the original - used for reporting on \n",
    "# error types and flagging for revision later\n",
    "\n",
    "msag['ST_TYPE_correct'] = msag['ST_TYPE_msag'] == msag['ST_TYPE_usps']"
   ]
  },
  {
   "cell_type": "code",
   "execution_count": 45,
   "id": "9da43a27-1ffc-4cdb-b1ad-8e79b6c65c84",
   "metadata": {},
   "outputs": [],
   "source": [
    "# Dataframe to CSV \n",
    "msag.to_csv(r\"path\\to\\msag_prep.csv\")\n"
   ]
  }
 ],
 "metadata": {
  "kernelspec": {
   "display_name": "Python 3 (ipykernel)",
   "language": "python",
   "name": "python3"
  },
  "language_info": {
   "codemirror_mode": {
    "name": "ipython",
    "version": 3
   },
   "file_extension": ".py",
   "mimetype": "text/x-python",
   "name": "python",
   "nbconvert_exporter": "python",
   "pygments_lexer": "ipython3",
   "version": "3.11.11"
  }
 },
 "nbformat": 4,
 "nbformat_minor": 5
}
