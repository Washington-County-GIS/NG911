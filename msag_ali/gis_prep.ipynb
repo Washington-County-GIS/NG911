{
 "cells": [
  {
   "cell_type": "code",
   "execution_count": null,
   "id": "de3c013b-a006-48f4-b7db-73bb8a2701a7",
   "metadata": {},
   "outputs": [],
   "source": [
    "# Scripts to prep the GIS SSAP export for matching to MSAG\n",
    "\n",
    "# Data must be formatted according to NG911 standards, otherwise modify the headers as\n",
    "# needed."
   ]
  },
  {
   "cell_type": "code",
   "execution_count": null,
   "id": "451f37f9-0896-4f18-bfb1-80296545c8f6",
   "metadata": {},
   "outputs": [],
   "source": [
    "# REQUIRED\n",
    "\n",
    "import pandas as pd\n",
    "import numpy as np\n",
    "import csv\n",
    "import os\n"
   ]
  },
  {
   "cell_type": "code",
   "execution_count": null,
   "id": "228f8542-ff0b-4801-af69-befdc27f3dda",
   "metadata": {},
   "outputs": [],
   "source": [
    "# USE ONLY FOR DBF\n",
    "# If SSAPs were exported as a feature, un-comment below to import the dataframe \n",
    "# from the dbf. Otherwise, use the next block to import CSV.\n",
    "\n",
    "# from simpledbf import Dbf5\n",
    "# dbf = Dbf(r\"path\\to\\addressExport.dbf\")\n",
    "# addresses = dbf.to_dataframe()\n",
    "\n",
    "# optional- output the dataframe as a CSV if desired\n",
    "# addresses.to_csv(r\"path\\to\\output.csv\")"
   ]
  },
  {
   "cell_type": "code",
   "execution_count": null,
   "id": "e6aee81c-b125-4906-ad97-5d21ef0bc324",
   "metadata": {},
   "outputs": [],
   "source": [
    "# CREATE DATAFRAME\n",
    "# import the CSV export of SSAPs\n",
    "\n",
    "# path to the CSV\n",
    "file_path = (r\"path\\to\\addressExport.csv\")\n",
    "\n",
    "# create the dataframe\n",
    "addresses = pd.read_csv(file_path, low_memory=False)"
   ]
  },
  {
   "cell_type": "code",
   "execution_count": null,
   "id": "ef886a7a-6309-49ba-98de-09e830ecec6e",
   "metadata": {},
   "outputs": [],
   "source": [
    "# PRE-SORT BY ADDRESS TYPE\n",
    "# For subaddresses. Create a filtered dataframe where only the base addresses are \n",
    "# kept (no apartments/ units)\n",
    "\n",
    "base_addr = addresses.loc[addresses['UnitType'].isnull()]\n",
    "\n",
    "# OPTIONAL. Additional filtering to exclude addresses where a column has a particular string \n",
    "# base_addr = base_addr.loc[(base_addr['someField'].str.contains(\"some sub string\")==False)]\n"
   ]
  },
  {
   "cell_type": "code",
   "execution_count": null,
   "id": "fc27778f-4083-4969-b62f-252da2a6ca63",
   "metadata": {},
   "outputs": [],
   "source": [
    "# GROUP DATA\n",
    "# Group all of the address points according to matching attributes\n",
    "# If your data is properly configured, you should be able to use the \n",
    "# Legacy street name, pre-type, etc. These fields should already be formatted \n",
    "# the same as the MSAG file. See the arcade attribute rules for methods to \n",
    "# generate these fields automatically.\n",
    "\n",
    "\n",
    "# Create a new dataframe where the address points are grouped by specific \n",
    "# matching attributes. Keep null values.\n",
    "grouped_addr = base_addr.groupby(['ESN','LSt_PreDir','LSt_Name','LSt_Type', 'LSt_PosDir','MSAGComm','AddNum_Pre'], dropna=False).agg({'Add_Number':['min','max','count']})\n"
   ]
  },
  {
   "cell_type": "code",
   "execution_count": null,
   "id": "ca084717-dd97-4ea4-972d-7e84b763aa8b",
   "metadata": {},
   "outputs": [],
   "source": [
    "# Export the dataframe to CSV\n",
    "grouped_addr.to_csv(r\"path\\to\\gis_prepFile.csv\")"
   ]
  }
 ],
 "metadata": {
  "kernelspec": {
   "display_name": "Python 3 (ipykernel)",
   "language": "python",
   "name": "python3"
  },
  "language_info": {
   "codemirror_mode": {
    "name": "ipython",
    "version": 3
   },
   "file_extension": ".py",
   "mimetype": "text/x-python",
   "name": "python",
   "nbconvert_exporter": "python",
   "pygments_lexer": "ipython3",
   "version": "3.11.11"
  }
 },
 "nbformat": 4,
 "nbformat_minor": 5
}
