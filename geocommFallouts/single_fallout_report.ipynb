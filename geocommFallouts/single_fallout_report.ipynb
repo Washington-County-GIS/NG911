{
 "cells": [
  {
   "cell_type": "code",
   "execution_count": null,
   "id": "25607423-fe17-4dde-b0ae-daf3c31d50aa",
   "metadata": {},
   "outputs": [],
   "source": [
    "# Create report on the unique descriptions in a fallout report from geocomm, filter the fallouts as desired, \n",
    "# create CSVs to join to features or copies of features to customize your view in arcGIS\n",
    "\n",
    "# These scripts can help with the tracking of specific fallout types overtime, as well as finding the root cause of repeated errors"
   ]
  },
  {
   "cell_type": "code",
   "execution_count": 3,
   "id": "93b986eb-49e1-4420-90af-f8c6f45d96cb",
   "metadata": {},
   "outputs": [],
   "source": [
    "# REQUIRED\n",
    "import pandas as pd\n",
    "import csv\n",
    "import os\n"
   ]
  },
  {
   "cell_type": "code",
   "execution_count": 4,
   "id": "586834ea-f786-4c15-95bf-6020d5f35836",
   "metadata": {},
   "outputs": [],
   "source": [
    "# Insert the file path to the CSV\n",
    "file_path = (r\"C:\\path\\to\\your\\directory\\fileName.csv\")\n",
    "\n",
    "# Create the dataframe from the entire fallout report CSV\n",
    "fallout = pd.read_csv(file_path, low_memory=False)\n"
   ]
  },
  {
   "cell_type": "code",
   "execution_count": null,
   "id": "76704c10-565e-4f6d-ba7d-ca3efba93a05",
   "metadata": {},
   "outputs": [],
   "source": [
    "# Output only the column names. Used for copy/pasting names to match exactly\n",
    "print(fallout.columns)"
   ]
  },
  {
   "cell_type": "code",
   "execution_count": null,
   "id": "8bc7cc47-dae5-47eb-abc4-e5496b30177d",
   "metadata": {},
   "outputs": [],
   "source": [
    "# Create a variable for a specific column\n",
    "desc = fallout['DESCRIPTION']\n",
    "\n",
    "# Create a variable for the counts of each unique value of that column\n",
    "type_counts = desc.value_counts()\n",
    "\n",
    "# output the type counts\n",
    "print(type_counts)\n"
   ]
  },
  {
   "cell_type": "code",
   "execution_count": null,
   "id": "280d9fd1-6ea7-498e-b7ca-25bf618ebc04",
   "metadata": {},
   "outputs": [],
   "source": [
    "# filter for a specific value found in the column of interest\n",
    "# In this case, I only want entries with a description containing the Unique ID warning\n",
    "rcl_split = fallout[fallout['DESCRIPTION'].str.contains(\"Unique ID value is not unique across all layers\")]\n",
    "\n",
    "# Write only the entries with the specific value in the column of interest to a new CSV \n",
    "# Here the output is a CSV file that looks just like the original fallout report, but only\n",
    "# contains entries where the Description contains the text \"Unique ID value is not unique across all layers\"\n",
    "rcl_split.to_csv(r\"C:\\path\\to\\your\\directory\\fileName.csv\")"
   ]
  },
  {
   "cell_type": "code",
   "execution_count": null,
   "id": "b3e667fb-867d-4081-a6c3-02642b62f6aa",
   "metadata": {},
   "outputs": [],
   "source": [
    "# filter by one particular description. Must be a full string match\n",
    "desc_str = \"This QC reports SSAP features that don't have a corresponding road segment in the road centerlines feature layer.\" \n",
    "desc_filter = fallout[fallout['DESCRIPTION']== desc_str]\n",
    "#print(rcl_filter)\n",
    "\n",
    "desc_filter.to_csv(r\"C:\\path\\to\\your\\directory\\fileName.csv\")"
   ]
  },
  {
   "cell_type": "code",
   "execution_count": null,
   "id": "5c2d2aab-b5d0-41db-8c9a-76a82d0d7723",
   "metadata": {},
   "outputs": [],
   "source": [
    "# Maybe you want multiple description types in your pared-down fallout report. \n",
    "# Here I set multiple variables to the text copied from descriptions that were coming up a lot\n",
    "desc1 = \"RoadCenterlines line feature's attributes do not match intersecting IncMuni_L polygon - Single intersecting polygon \"\n",
    "desc2 = \"RoadCenterlines line feature's attributes do not match intersecting IncMuni_R polygon - Single intersecting polygon\"\n",
    "desc3 = \"SiteStructureAddressPoints point feature's attributes do not match intersecting Inc_Muni polygon - Multiple intersecting polygon\"\n",
    "desc4 = \"SiteStructureAddressPoints point feature's attributes do not match intersecting Inc_Muni polygon - Single intersecting polygon\"\n",
    "desc5 = \"This QC reports SSAP features that don't have a corresponding road segment in the road centerlines feature layer.\"\n",
    "\n",
    "# Create an array of the descriptions\n",
    "desc_arr = [desc1,desc2,desc3,desc4, desc5]\n",
    "\n",
    "# Create a filter where the entries contain one of the descriptions in the array\n",
    "fallout_filter = fallout[fallout['DESCRIPTION'].isin(desc_arr)]\n",
    "\n",
    "# Create a new CSV of the filtered results\n",
    "fallout_filter.to_csv(r\"C:\\path\\to\\your\\directory\\fileName.csv\")\n"
   ]
  },
  {
   "cell_type": "code",
   "execution_count": 7,
   "id": "38b28dd6-a185-498d-8554-57975fa6865b",
   "metadata": {},
   "outputs": [
    {
     "name": "stdout",
     "output_type": "stream",
     "text": [
      "DESCRIPTION\n",
      "This QC synchronizes ALI data with SSAP data.                                                                        2470\n",
      "MSAG record falls in a gap within the corresponding road ranges                                                      1325\n",
      "This QC reports SSAP features that don't have a corresponding road segment in the road centerlines feature layer.     740\n",
      "MSAG record has no matching RCL street name                                                                           620\n",
      "No matching full street name found between the ALI record and the road segment                                        474\n",
      "Name: count, dtype: int64\n"
     ]
    }
   ],
   "source": [
    "# Similar to the block above, you can create an array of the top n most common descriptions and filter for those. \n",
    "\n",
    "# set a variable for the number desired\n",
    "n = 5\n",
    "# create a list of the descriptions with the highest number of instances in the report\n",
    "most_freq = fallout['DESCRIPTION'].value_counts()[:n].index.tolist()\n",
    "\n",
    "# For testing purposes. This outputs the list of the most common descriptions, with the total number of occurences\n",
    "tops = fallout['DESCRIPTION'].value_counts().head(n)\n",
    "print(tops)\n",
    "\n",
    "\n",
    "# Using the list of top 10 descriptions from above, create the filtered data frame\n",
    "desc_filter = fallout[fallout['DESCRIPTION'].isin(most_freq)]\n",
    "\n",
    "# Create a CSV of the filtered data\n",
    "desc_filter.to_csv(r\"C:\\path\\to\\your\\directory\\fileName.csv\")"
   ]
  },
  {
   "cell_type": "code",
   "execution_count": null,
   "id": "13c230ea-4f06-45f5-8641-6e754dde643e",
   "metadata": {},
   "outputs": [],
   "source": [
    "# The Description field contains higher level information about the fallout type. More specific information is found in \n",
    "# EXTENDED_INFORMATION, but this field contains info unique to the exact feature point or segment. \n",
    "# Use partial string matching to filter for all the values of a more specific fallout type, without the filter\n",
    "# getting bogged down by the specific address point or RCL affected\n",
    "\n",
    "# Set variable for the extended information column\n",
    "extInfo = fallout_filter['EXTENDED_INFORMATION']\n",
    "\n",
    "# Create a filtered dataframe of the entries with the matching text\n",
    "fallout_filter2 = fallout_filter[extInfo.str.contains(\"same full street name\")]\n",
    "\n",
    "# export the filtered data to a CSV\n",
    "fallout_filter2.to_csv(r\"C:\\path\\to\\your\\directory\\fileName.csv\")"
   ]
  },
  {
   "cell_type": "code",
   "execution_count": null,
   "id": "92e65646-19ed-40fb-b6d2-bf9d7928a8a0",
   "metadata": {},
   "outputs": [],
   "source": []
  }
 ],
 "metadata": {
  "kernelspec": {
   "display_name": "Python 3 (ipykernel)",
   "language": "python",
   "name": "python3"
  },
  "language_info": {
   "codemirror_mode": {
    "name": "ipython",
    "version": 3
   },
   "file_extension": ".py",
   "mimetype": "text/x-python",
   "name": "python",
   "nbconvert_exporter": "python",
   "pygments_lexer": "ipython3",
   "version": "3.11.11"
  }
 },
 "nbformat": 4,
 "nbformat_minor": 5
}
